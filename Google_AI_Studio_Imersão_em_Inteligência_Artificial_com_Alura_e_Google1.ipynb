{
  "nbformat": 4,
  "nbformat_minor": 0,
  "metadata": {
    "colab": {
      "provenance": [],
      "toc_visible": true
    },
    "kernelspec": {
      "name": "python3",
      "display_name": "Python 3"
    },
    "language_info": {
      "name": "python"
    }
  },
  "cells": [
    {
      "cell_type": "code",
      "execution_count": 6,
      "metadata": {
        "id": "HRdytzcPwPA6",
        "colab": {
          "base_uri": "https://localhost:8080/",
          "height": 54
        },
        "outputId": "99ecf89a-096f-45ee-f0a7-ef134c0447d7"
      },
      "outputs": [
        {
          "output_type": "stream",
          "name": "stdout",
          "text": [
            "O ambiente parece ser uma floresta ou um zoológico, com um fundo de vegetação verde e marrom. O desfoque no fundo sugere que o panda está em um ambiente natural ou simulado, com árvores e arbustos ao redor. \n"
          ]
        }
      ],
      "source": [
        "\"\"\"\n",
        "At the command line, only need to run once to install the package via pip:\n",
        "\n",
        "$ pip install google-generativeai\n",
        "\"\"\"\n",
        "\n",
        "from pathlib import Path\n",
        "import hashlib\n",
        "import google.generativeai as genai\n",
        "from config import api_key  # Importando a API key do arquivo config.py\n",
        "\n",
        "genai.configure(api_key=api_key)  # Configurando a API key importada\n",
        "\n",
        "# Set up the model\n",
        "generation_config = {\n",
        "  \"temperature\": 1,\n",
        "  \"top_p\": 0.95,\n",
        "  \"top_k\": 0,\n",
        "  \"max_output_tokens\": 8192,\n",
        "}\n",
        "\n",
        "safety_settings = [\n",
        "  {\n",
        "    \"category\": \"HARM_CATEGORY_HARASSMENT\",\n",
        "    \"threshold\": \"BLOCK_MEDIUM_AND_ABOVE\"\n",
        "  },\n",
        "  {\n",
        "    \"category\": \"HARM_CATEGORY_HATE_SPEECH\",\n",
        "    \"threshold\": \"BLOCK_MEDIUM_AND_ABOVE\"\n",
        "  },\n",
        "  {\n",
        "    \"category\": \"HARM_CATEGORY_SEXUALLY_EXPLICIT\",\n",
        "    \"threshold\": \"BLOCK_MEDIUM_AND_ABOVE\"\n",
        "  },\n",
        "  {\n",
        "    \"category\": \"HARM_CATEGORY_DANGEROUS_CONTENT\",\n",
        "    \"threshold\": \"BLOCK_MEDIUM_AND_ABOVE\"\n",
        "  },\n",
        "]\n",
        "\n",
        "system_instruction = \"descreva a imagem em portugues\"\n",
        "\n",
        "model = genai.GenerativeModel(model_name=\"gemini-1.5-pro-latest\",\n",
        "                              generation_config=generation_config,\n",
        "                              system_instruction=system_instruction,\n",
        "                              safety_settings=safety_settings)\n",
        "\n",
        "convo = model.start_chat(history=[\n",
        "  {\n",
        "    \"role\": \"user\",\n",
        "    \"parts\": [genai.upload_file(\"/content/ursopanda.jpg\")]\n",
        "  },\n",
        "  {\n",
        "    \"role\": \"user\",\n",
        "    \"parts\": [\"fale de modo conciso sobre a imagem\"]\n",
        "  },\n",
        "  {\n",
        "    \"role\": \"model\",\n",
        "    \"parts\": [\"A imagem mostra um panda gigante comendo bambu. O panda está em foco no primeiro plano, com um fundo desfocado de verde e marrom. O panda tem uma pelagem preta e branca e está segurando um pedaço de bambu com as patas.\"]\n",
        "  },\n",
        "])\n",
        "\n",
        "convo.send_message(\"O que mais você pode me dizer sobre o ambiente em que o panda está?\")\n",
        "print(convo.last.text)"
      ]
    },
    {
      "cell_type": "markdown",
      "source": [
        "# New Section"
      ],
      "metadata": {
        "id": "B-4zitfA7kr4"
      }
    },
    {
      "cell_type": "markdown",
      "source": [
        "# New Section"
      ],
      "metadata": {
        "id": "7DCFvSKC7mdW"
      }
    },
    {
      "cell_type": "code",
      "source": [],
      "metadata": {
        "id": "4L52EnxQ6C4h"
      },
      "execution_count": null,
      "outputs": []
    }
  ]
}